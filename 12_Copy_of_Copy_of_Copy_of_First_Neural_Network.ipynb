{
  "nbformat": 4,
  "nbformat_minor": 0,
  "metadata": {
    "colab": {
      "name": "Copy of Copy of Copy of First Neural Network.ipynb",
      "provenance": [],
      "collapsed_sections": [],
      "include_colab_link": true
    },
    "kernelspec": {
      "name": "python3",
      "display_name": "Python 3"
    },
    "language_info": {
      "name": "python"
    }
  },
  "cells": [
    {
      "cell_type": "markdown",
      "metadata": {
        "id": "view-in-github",
        "colab_type": "text"
      },
      "source": [
        "<a href=\"https://colab.research.google.com/github/VMBoehm/N3AS_Project_Malika/blob/main/12_Copy_of_Copy_of_Copy_of_First_Neural_Network.ipynb\" target=\"_parent\"><img src=\"https://colab.research.google.com/assets/colab-badge.svg\" alt=\"Open In Colab\"/></a>"
      ]
    },
    {
      "cell_type": "code",
      "execution_count": 1,
      "metadata": {
        "id": "RG7EeHGKzq7D"
      },
      "outputs": [],
      "source": [
        "from sklearn import datasets as datasets\n",
        "from sklearn import model_selection as ms\n",
        "import matplotlib.pyplot as plt\n",
        "import numpy as np"
      ]
    },
    {
      "cell_type": "code",
      "source": [
        "#random_seed = 1534"
      ],
      "metadata": {
        "id": "VinrRZc1z9mX"
      },
      "execution_count": 2,
      "outputs": []
    },
    {
      "cell_type": "code",
      "source": [
        "## TASK: Play with different class_sep parameters, how does the model accuracy degrade/improve?\n",
        "#dataset = datasets.make_classification(n_samples=1000, n_features=4, random_state=random_seed, class_sep= 3)\n",
        "## n_features = 5 does something weird, We talked about class_sep last monday."
      ],
      "metadata": {
        "id": "uE088GgTzwbm"
      },
      "execution_count": 3,
      "outputs": []
    },
    {
      "cell_type": "code",
      "source": [
        "#features, labels = dataset\n",
        "#print(features.shape)"
      ],
      "metadata": {
        "id": "MqtNViA20HMw"
      },
      "execution_count": 4,
      "outputs": []
    },
    {
      "cell_type": "code",
      "source": [
        "#plt.scatter(features[:,0],features[:,1], c=labels)\n",
        "#plt.show()\n",
        "#plt.scatter(features[:,2],features[:,3], c=labels)\n",
        "#plt.show()"
      ],
      "metadata": {
        "id": "qyHr8Kdt0QeN"
      },
      "execution_count": 5,
      "outputs": []
    },
    {
      "cell_type": "code",
      "source": [
        "#X_train, X_test, y_train, y_test = ms.train_test_split(features,labels, test_size = 0.2)"
      ],
      "metadata": {
        "id": "Pl1IZgAj1RPK"
      },
      "execution_count": 6,
      "outputs": []
    },
    {
      "cell_type": "code",
      "source": [
        "#print('X_train:',np.shape(X_train))\n",
        "#print('y_train:',np.shape(y_train))\n",
        "#print('X_test:',np.shape(X_test))\n",
        "#print('y_test:',np.shape(y_test))"
      ],
      "metadata": {
        "id": "o-gCwy5G1u3u"
      },
      "execution_count": 7,
      "outputs": []
    },
    {
      "cell_type": "code",
      "source": [
        "import tensorflow\n",
        "from tensorflow import keras\n",
        "from tensorflow.keras import layers\n",
        "from keras.models import Sequential\n",
        "from keras.layers import Dense\n"
      ],
      "metadata": {
        "id": "fEksAjz52GJN"
      },
      "execution_count": 8,
      "outputs": []
    },
    {
      "cell_type": "code",
      "source": [
        "num_classes = 10 \n",
        "input_shape = (28, 28, 1)\n",
        "\n",
        "(X_train, y_train), (X_test, y_test) = keras.datasets.mnist.load_data()\n",
        "\n",
        "# Scale images to the [0, 1] range\n",
        "X_train = X_train.astype(\"float32\") / 255\n",
        "X_test = X_test.astype(\"float32\") / 255\n",
        "# Make sure images have shape (28, 28, 1)\n",
        "X_train = np.expand_dims(X_train, -1)\n",
        "X_test = np.expand_dims(X_test, -1)\n",
        "print(\"x_train shape:\", X_train.shape)\n",
        "print(X_train.shape[0], \"train samples\")\n",
        "print(X_test.shape[0], \"test samples\")\n",
        "\n",
        "\n",
        "y_train = keras.utils.to_categorical(y_train, num_classes)\n",
        "y_test = keras.utils.to_categorical(y_test, num_classes)\n",
        "\n",
        "print('X_train:',np.shape(X_train))\n",
        "print('y_train:',np.shape(y_train))\n",
        "print('X_test:',np.shape(X_test))\n",
        "print('y_test:',np.shape(y_test))"
      ],
      "metadata": {
        "id": "MSkQrdJZ2UCL",
        "colab": {
          "base_uri": "https://localhost:8080/"
        },
        "outputId": "1cb8781e-3157-4d49-e534-12d4ff5432c6"
      },
      "execution_count": 10,
      "outputs": [
        {
          "output_type": "stream",
          "name": "stdout",
          "text": [
            "x_train shape: (60000, 28, 28, 1)\n",
            "60000 train samples\n",
            "10000 test samples\n",
            "X_train: (60000, 28, 28, 1)\n",
            "y_train: (60000, 10)\n",
            "X_test: (10000, 28, 28, 1)\n",
            "y_test: (10000, 10)\n"
          ]
        }
      ]
    },
    {
      "cell_type": "code",
      "source": [
        "\n",
        "basic_model = Sequential(\n",
        "    [\n",
        "        keras.Input(shape=input_shape),\n",
        "        layers.Conv2D(32, kernel_size=(3, 3), activation=\"relu\"),\n",
        "        layers.MaxPooling2D(pool_size=(2, 2)),\n",
        "        layers.Conv2D(64, kernel_size=(3, 3), activation=\"relu\"),\n",
        "        layers.MaxPooling2D(pool_size=(2, 2)),\n",
        "        layers.Flatten(),\n",
        "        layers.Dropout(0.5),\n",
        "        layers.Dense(num_classes, activation=\"softmax\"),\n",
        "    ]\n",
        ")\n",
        "basic_model.summary()\n",
        "# Adding layers to the model\n",
        "# First layers: 16 neurons/perceptrons that takes the input and uses Leaky ReLU activation function.\n",
        "\n",
        "#basic_model.add(Dense(units = 4 , activation = 'LeakyReLU', input_shape = (4,))) \n",
        "# Second layer: 1 neuron/perceptron that takes the input from the 1st layers and gives output as 0 or 1.Activation used is 'Hard Sigmoid'\n",
        "\n",
        "# TASK: Can you change the output to be probabilistic (probability for each class) by using 'softmax' as an activation function?\n",
        "#basic_model.add(Dense(1, activation = 'hard_sigmoid'))\n",
        "### This is what I added. I think this is right.\n",
        "#basic_model.add(Dense(2, activation='softmax'))\n"
      ],
      "metadata": {
        "id": "9KPL-EQ12joy",
        "colab": {
          "base_uri": "https://localhost:8080/"
        },
        "outputId": "1e49c52f-cf59-4793-fe9c-ad95520bf996"
      },
      "execution_count": 11,
      "outputs": [
        {
          "output_type": "stream",
          "name": "stdout",
          "text": [
            "Model: \"sequential\"\n",
            "_________________________________________________________________\n",
            " Layer (type)                Output Shape              Param #   \n",
            "=================================================================\n",
            " conv2d (Conv2D)             (None, 26, 26, 32)        320       \n",
            "                                                                 \n",
            " max_pooling2d (MaxPooling2D  (None, 13, 13, 32)       0         \n",
            " )                                                               \n",
            "                                                                 \n",
            " conv2d_1 (Conv2D)           (None, 11, 11, 64)        18496     \n",
            "                                                                 \n",
            " max_pooling2d_1 (MaxPooling  (None, 5, 5, 64)         0         \n",
            " 2D)                                                             \n",
            "                                                                 \n",
            " flatten (Flatten)           (None, 1600)              0         \n",
            "                                                                 \n",
            " dropout (Dropout)           (None, 1600)              0         \n",
            "                                                                 \n",
            " dense (Dense)               (None, 10)                16010     \n",
            "                                                                 \n",
            "=================================================================\n",
            "Total params: 34,826\n",
            "Trainable params: 34,826\n",
            "Non-trainable params: 0\n",
            "_________________________________________________________________\n"
          ]
        }
      ]
    },
    {
      "cell_type": "code",
      "source": [
        "# TASK optional): How does the Adam optimizer work? \n",
        "# from googling I have learned that the adam Optimizer is a Stochastic optimization. Which means its does graident optmaztion. I am acutally not really sure how it works\n",
        "## I found this paper about it https://arxiv.org/pdf/1412.6980.pdf but its a little hard to understand.\n",
        "## I know that basically it find how to get down hill the fastest\n",
        "opt = keras.optimizers.Adam(learning_rate=0.01)\n",
        "#TASK: What is binary cross entropy? What does it measure?\n",
        "basic_model.compile(loss = 'categorical_crossentropy', optimizer = opt, metrics = ['accuracy'])\n",
        "## the Binary cross entropy is ued for our loss paramter which calculates the degree of errror. A neural network measures doesn't measure \n",
        "# acurracy but instead loss. This is than used to measure accuracy. Binary_crossentropy is used when you have a binary system like cats or dogs or 1 and 0\n",
        "\n",
        "\n"
      ],
      "metadata": {
        "id": "G4sTxfwv2wjV"
      },
      "execution_count": 12,
      "outputs": []
    },
    {
      "cell_type": "code",
      "source": [
        "# TASK: add validation data (https://keras.io/api/models/model_training_apis/)\n",
        "#basic_model.fit(X_train, y_train, epochs=50, validation_data= (X_test, y_test))\n",
        "basic_model.fit(X_train, y_train, batch_size=128, epochs=2, validation_data= (X_test, y_test))"
      ],
      "metadata": {
        "colab": {
          "base_uri": "https://localhost:8080/"
        },
        "id": "uOFZ5cM02_5M",
        "outputId": "8188da0c-0000-4f00-d770-47438926df70"
      },
      "execution_count": 13,
      "outputs": [
        {
          "output_type": "stream",
          "name": "stdout",
          "text": [
            "Epoch 1/2\n",
            "469/469 [==============================] - 60s 126ms/step - loss: 0.1682 - accuracy: 0.9482 - val_loss: 0.0567 - val_accuracy: 0.9825\n",
            "Epoch 2/2\n",
            "469/469 [==============================] - 57s 122ms/step - loss: 0.0854 - accuracy: 0.9735 - val_loss: 0.0538 - val_accuracy: 0.9824\n"
          ]
        },
        {
          "output_type": "execute_result",
          "data": {
            "text/plain": [
              "<keras.callbacks.History at 0x7feec2a85f50>"
            ]
          },
          "metadata": {},
          "execution_count": 13
        }
      ]
    },
    {
      "cell_type": "code",
      "source": [
        "loss_and_metrics = basic_model.evaluate(X_test, y_test)\n",
        "print('Loss = ',loss_and_metrics[0])\n",
        "print('Accuracy = ',loss_and_metrics[1])\n"
      ],
      "metadata": {
        "id": "f9z3BuKo3ZoF",
        "colab": {
          "base_uri": "https://localhost:8080/"
        },
        "outputId": "0e7fa871-61b4-45d1-9edd-ebce4600f290"
      },
      "execution_count": 14,
      "outputs": [
        {
          "output_type": "stream",
          "name": "stdout",
          "text": [
            "313/313 [==============================] - 4s 12ms/step - loss: 0.0538 - accuracy: 0.9824\n",
            "Loss =  0.053848087787628174\n",
            "Accuracy =  0.9824000000953674\n"
          ]
        }
      ]
    },
    {
      "cell_type": "code",
      "source": [
        "y_train_5 = (y_train == 5)\n",
        "y_test_5 = (y_test == 5)\n"
      ],
      "metadata": {
        "id": "5kJN7hSfvXWS"
      },
      "execution_count": 15,
      "outputs": []
    },
    {
      "cell_type": "code",
      "source": [
        "## calulating accuracy from scartch\n",
        "## so this is a binary acuraccy calcuation\n",
        "from sklearn.preprocessing import normalize\n",
        "#y_test = y_test[:, 0]\n",
        "probs = basic_model.predict(X_test)\n",
        "preds = probs[:,1]\n",
        "\n",
        "y_pred = (preds >= .5).astype('int')\n",
        "\n",
        "#y_pred = y_pred[:, 0]\n",
        "y_pred_train = (X_train >= .5).astype('int')\n",
        "y_pred_train = y_pred_train[:, 0]\n",
        "\n",
        "def compute_tp_tn_fn_fp(act, pred):\n",
        "\n",
        "\ttp = sum((act == 1) & (pred == 1))\n",
        "\ttn = sum((act == 0) & (pred == 0))\n",
        "\tfn = sum((act == 1) & (pred == 0))\n",
        "\tfp = sum((act == 0) & (pred == 1))\n",
        "\treturn tp, tn, fp, fn\n",
        "\n",
        "# tp_t, tn_t, fp_t, fn_t = compute_tp_tn_fn_fp(y_train,y_pred)\n",
        "\n",
        "tp_k, tn_k, fp_k, fn_k = compute_tp_tn_fn_fp(y_test,y_pred )\n",
        "\n",
        "def compute_accuracy(tp, tn, fn, fp):\n",
        "  return((tp + tn) * 100)/ float( tp + tn + fn + fp)\n",
        "  \n",
        "#print(\"test acuuracy\",compute_accuracy(tp_e, tn_e, fn_e, fp_e))\n",
        "\n",
        "#print(\"train accuracy\",compute_accuracy(tp_t, tn_t, fp_t, fn_t))\n",
        "\n",
        "print(\"test acuuracy\",compute_accuracy(tp_k, tn_k, fn_k, fp_k))\n"
      ],
      "metadata": {
        "id": "MZLeDWq-yXge",
        "colab": {
          "base_uri": "https://localhost:8080/"
        },
        "outputId": "16b8970d-972f-456e-dbb4-ea5ea3c80c7b"
      },
      "execution_count": 20,
      "outputs": [
        {
          "output_type": "stream",
          "name": "stdout",
          "text": [
            "test acuuracy 78.85\n"
          ]
        }
      ]
    },
    {
      "cell_type": "code",
      "source": [
        "import sklearn.metrics as metrics\n",
        "probs = basic_model.predict(X_test)\n",
        "preds = probs[:,0]\n",
        "fpr, tpr, threshold = metrics.roc_curve(y_test, preds)\n",
        "roc_auc = metrics.auc(fpr, tpr)\n",
        "\n",
        "import matplotlib.pyplot as plt\n",
        "plt.title('Receiver Operating Characteristic')\n",
        "plt.plot(fpr, tpr, 'b', label = 'AUC = %0.2f' % roc_auc)\n",
        "plt.legend(loc = 'lower right')\n",
        "plt.plot([0, 1], [0, 1],'r--')\n",
        "plt.xlim([-0.1, 1])\n",
        "plt.ylim([0, 1.1])\n",
        "plt.ylabel('True Positive Rate')\n",
        "plt.xlabel('False Positive Rate')\n",
        "plt.show()"
      ],
      "metadata": {
        "id": "_QhpnmjBAdDw",
        "colab": {
          "base_uri": "https://localhost:8080/",
          "height": 295
        },
        "outputId": "f585c35e-ef98-48ab-bd4c-b896318e6d5e"
      },
      "execution_count": 21,
      "outputs": [
        {
          "output_type": "display_data",
          "data": {
            "image/png": "[encoded data removed]",
            "text/plain": [
              "<Figure size 432x288 with 1 Axes>"
            ]
          },
          "metadata": {
            "needs_background": "light"
          }
        }
      ]
    },
    {
      "cell_type": "markdown",
      "source": [
        ""
      ],
      "metadata": {
        "id": "A_VBaeSctcW3"
      }
    }
  ]
}