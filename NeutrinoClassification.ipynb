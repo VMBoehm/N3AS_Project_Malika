{
  "nbformat": 4,
  "nbformat_minor": 0,
  "metadata": {
    "colab": {
      "name": "NeutrinoClassification.ipynb",
      "provenance": [],
      "collapsed_sections": [],
      "include_colab_link": true
    },
    "kernelspec": {
      "name": "python3",
      "display_name": "Python 3"
    },
    "language_info": {
      "name": "python"
    },
    "accelerator": "TPU"
  },
  "cells": [
    {
      "cell_type": "markdown",
      "metadata": {
        "id": "view-in-github",
        "colab_type": "text"
      },
      "source": [
        "<a href=\"https://colab.research.google.com/github/VMBoehm/N3AS_Project_Malika/blob/main/NeutrinoClassification.ipynb\" target=\"_parent\"><img src=\"https://colab.research.google.com/assets/colab-badge.svg\" alt=\"Open In Colab\"/></a>"
      ]
    },
    {
      "cell_type": "code",
      "execution_count": 1,
      "metadata": {
        "id": "RG7EeHGKzq7D"
      },
      "outputs": [],
      "source": [
        "from astropy.io import fits\n",
        "import matplotlib.pyplot as plt\n",
        "import numpy as np\n",
        "import tensorflow as tf\n",
        "from tensorflow import keras"
      ]
    },
    {
      "cell_type": "code",
      "source": [
        "from google.colab import drive\n",
        "import os\n",
        "drive.mount('/content/drive/')"
      ],
      "metadata": {
        "colab": {
          "base_uri": "https://localhost:8080/"
        },
        "id": "kSD4VwfICgyO",
        "outputId": "622d4613-3cfa-441a-9dc1-ebc831b92bcd"
      },
      "execution_count": 2,
      "outputs": [
        {
          "output_type": "stream",
          "name": "stdout",
          "text": [
            "Mounted at /content/drive/\n"
          ]
        }
      ]
    },
    {
      "cell_type": "code",
      "source": [
        "#! ls ./drive/MyDrive/"
      ],
      "metadata": {
        "id": "clIkWUXiC59t"
      },
      "execution_count": 3,
      "outputs": []
    },
    {
      "cell_type": "code",
      "source": [
        "class MassiceNusGen(tf.keras.utils.Sequence):\n",
        "    \n",
        "    def __init__(self, path, redshift, batch_size, file_num=12768, size=(128, 128,1), shuffle=True, seed=9456, valid=False):\n",
        "        \n",
        "        self.path       = path\n",
        "        self.z          = redshift\n",
        "        self.batch_size = batch_size\n",
        "        self.dim        = size\n",
        "        self.shuffle    = shuffle\n",
        "        self.file_num   = file_num\n",
        "        self.valid_size = self.file_num//5\n",
        "        self.train_size = self.file_num-self.valid_size   \n",
        "        self.size       = size\n",
        "        self.folder     = \"z%s\"%str(int(10*self.z)).zfill(2)\n",
        "        \n",
        "        if valid:\n",
        "            self.order      = np.arange(self.train_size,self.file_num)\n",
        "            self.size       = self.valid_size\n",
        "        else:\n",
        "            self.order      = np.arange(self.train_size)\n",
        "            self.size       = self.train_size\n",
        "        \n",
        "        np.random.seed(seed)\n",
        "        np.random.shuffle(self.order)\n",
        "    \n",
        "    def on_epoch_end(self):\n",
        "        if self.shuffle:\n",
        "            np.random.shuffle(self.order)\n",
        "    \n",
        "    def __get_map(self, data):\n",
        "        data_array = tf.convert_to_tensor(data, dtype=tf.float32)  \n",
        "        data_array = tf.expand_dims(data_array,-1)\n",
        "        data_array = tf.image.resize(data_array,self.dim[0:2])\n",
        "        \n",
        "        \n",
        "        return data_array\n",
        "    \n",
        "    def __load_label(self, name):\n",
        "        hdul = fits.open(os.path.join(name))\n",
        "        mnu  = hdul[0].header[\"MNU\"]\n",
        "        label= int(mnu>0)\n",
        "        return label\n",
        "\n",
        "    def __get_name(self, ind):\n",
        "        file   = \"%d.fits\"%ind\n",
        "        return os.path.join(self.path,self.folder,file)\n",
        "    \n",
        "    def __load_data(self,name):\n",
        "        hdul = fits.open(os.path.join(name))\n",
        "        data = self.__get_map(hdul[1].data)\n",
        "        return data\n",
        "        \n",
        "    def __get_data(self, inds):\n",
        "        X  = np.asarray([self.__load_data(self.__get_name(ind)) for ind in inds])\n",
        "        Y  = np.asarray([self.__load_label(self.__get_name(ind)) for ind in inds], dtype=np.int32)\n",
        "        return X, Y\n",
        "    \n",
        "    def __getitem__(self, index):\n",
        "        inds   = self.order[index*self.batch_size:(index+1)*self.batch_size]\n",
        "        X,Y    = self.__get_data(inds)\n",
        "        return X, Y\n",
        "    \n",
        "    def __len__(self):\n",
        "        return self.size//self.batch_size\n"
      ],
      "metadata": {
        "id": "dwjAvox7Cbcg"
      },
      "execution_count": 58,
      "outputs": []
    },
    {
      "cell_type": "code",
      "source": [
        "train_gen = MassiceNusGen(path='./drive/MyDrive/', redshift=1.5, batch_size=16, valid=False, size=(64, 64,1))\n",
        "\n",
        "valid_gen = MassiceNusGen(path='./drive/MyDrive/', redshift=1.5, batch_size=16, valid=True, size=(64, 64,1))"
      ],
      "metadata": {
        "id": "iHBVz_0oBRNQ"
      },
      "execution_count": 59,
      "outputs": []
    },
    {
      "cell_type": "code",
      "source": [
        "# base_model = keras.applications.Xception(\n",
        "#     weights='imagenet',  # Load weights pre-trained on ImageNet.\n",
        "#     input_shape=(128, 128, 3),\n",
        "#     include_top=False) \n",
        "\n",
        "base_model = tf.keras.applications.VGG16(weights='imagenet',  # Load weights pre-trained on ImageNet.\n",
        "input_shape=(64, 64, 3),\n",
        "include_top=False) "
      ],
      "metadata": {
        "id": "LANoyoYLDfTJ"
      },
      "execution_count": 60,
      "outputs": []
    },
    {
      "cell_type": "code",
      "source": [
        "X = next(iter(train_gen))"
      ],
      "metadata": {
        "id": "Ns13huudFk-q"
      },
      "execution_count": 61,
      "outputs": []
    },
    {
      "cell_type": "code",
      "source": [
        "X"
      ],
      "metadata": {
        "colab": {
          "base_uri": "https://localhost:8080/"
        },
        "id": "gci4G9XeFqjm",
        "outputId": "204f3800-918d-42f4-9688-948892e79db7"
      },
      "execution_count": 62,
      "outputs": [
        {
          "output_type": "execute_result",
          "data": {
            "text/plain": [
              "(array([[[[-1.60252005e-02],\n",
              "          [-2.48812023e-03],\n",
              "          [ 1.58180576e-03],\n",
              "          ...,\n",
              "          [-4.57319850e-03],\n",
              "          [-1.07638203e-02],\n",
              "          [-7.74525711e-03]],\n",
              " \n",
              "         [[-2.31384486e-02],\n",
              "          [-9.26744938e-03],\n",
              "          [ 5.08536724e-03],\n",
              "          ...,\n",
              "          [ 8.24719109e-03],\n",
              "          [-9.93038900e-03],\n",
              "          [-1.53473802e-02]],\n",
              " \n",
              "         [[-1.56499818e-02],\n",
              "          [ 5.51103614e-04],\n",
              "          [ 4.92653623e-03],\n",
              "          ...,\n",
              "          [ 2.08623149e-02],\n",
              "          [ 2.99129598e-02],\n",
              "          [ 9.45911929e-03]],\n",
              " \n",
              "         ...,\n",
              " \n",
              "         [[-8.38653743e-03],\n",
              "          [-3.17078643e-03],\n",
              "          [-2.32977746e-03],\n",
              "          ...,\n",
              "          [ 2.45546140e-02],\n",
              "          [ 6.14186637e-02],\n",
              "          [ 5.33008501e-02]],\n",
              " \n",
              "         [[ 3.87175404e-03],\n",
              "          [ 7.51744024e-03],\n",
              "          [ 4.13263030e-03],\n",
              "          ...,\n",
              "          [ 1.77662987e-02],\n",
              "          [ 3.95247117e-02],\n",
              "          [ 5.78929037e-02]],\n",
              " \n",
              "         [[ 3.36873010e-02],\n",
              "          [ 9.61139984e-03],\n",
              "          [ 7.00110104e-03],\n",
              "          ...,\n",
              "          [ 4.43643890e-02],\n",
              "          [ 3.32137719e-02],\n",
              "          [ 2.09851917e-02]]],\n",
              " \n",
              " \n",
              "        [[[ 8.90758634e-03],\n",
              "          [-5.65158529e-03],\n",
              "          [-2.62332670e-02],\n",
              "          ...,\n",
              "          [-9.83129442e-03],\n",
              "          [-1.00861806e-02],\n",
              "          [-1.10694580e-02]],\n",
              " \n",
              "         [[-3.12493881e-04],\n",
              "          [-1.06608877e-02],\n",
              "          [-1.42603759e-02],\n",
              "          ...,\n",
              "          [-2.19973195e-02],\n",
              "          [-1.29451267e-02],\n",
              "          [-1.42315654e-02]],\n",
              " \n",
              "         [[-7.11157266e-03],\n",
              "          [ 1.11949882e-02],\n",
              "          [ 2.91006379e-02],\n",
              "          ...,\n",
              "          [-3.37066613e-02],\n",
              "          [-2.41142213e-02],\n",
              "          [-2.14979239e-02]],\n",
              " \n",
              "         ...,\n",
              " \n",
              "         [[ 2.18712445e-03],\n",
              "          [-1.25361569e-02],\n",
              "          [-1.69469602e-02],\n",
              "          ...,\n",
              "          [-1.61383562e-02],\n",
              "          [-3.42695527e-02],\n",
              "          [-2.90526226e-02]],\n",
              " \n",
              "         [[ 4.92674066e-03],\n",
              "          [-1.96528761e-03],\n",
              "          [-1.14321783e-02],\n",
              "          ...,\n",
              "          [-2.56272107e-02],\n",
              "          [-3.59423533e-02],\n",
              "          [-2.92912629e-02]],\n",
              " \n",
              "         [[ 1.88545808e-02],\n",
              "          [ 1.46920560e-02],\n",
              "          [ 2.37367414e-02],\n",
              "          ...,\n",
              "          [-3.50711457e-02],\n",
              "          [-3.87978256e-02],\n",
              "          [-3.06171943e-02]]],\n",
              " \n",
              " \n",
              "        [[[-2.09412873e-02],\n",
              "          [-1.54537875e-02],\n",
              "          [-8.32925364e-03],\n",
              "          ...,\n",
              "          [ 1.25656999e-03],\n",
              "          [ 1.59647092e-02],\n",
              "          [ 2.40557883e-02]],\n",
              " \n",
              "         [[-2.06970386e-02],\n",
              "          [-1.02284122e-02],\n",
              "          [ 9.28125624e-03],\n",
              "          ...,\n",
              "          [ 2.31845826e-02],\n",
              "          [ 1.43512124e-02],\n",
              "          [ 6.50138548e-03]],\n",
              " \n",
              "         [[-3.15408558e-02],\n",
              "          [-1.61475800e-02],\n",
              "          [ 6.10559620e-03],\n",
              "          ...,\n",
              "          [ 1.23049226e-02],\n",
              "          [ 1.80401783e-02],\n",
              "          [ 2.23492868e-02]],\n",
              " \n",
              "         ...,\n",
              " \n",
              "         [[-1.79541111e-02],\n",
              "          [-1.85749866e-02],\n",
              "          [-2.29278933e-02],\n",
              "          ...,\n",
              "          [ 8.49028304e-03],\n",
              "          [ 1.36230066e-02],\n",
              "          [ 2.06584837e-02]],\n",
              " \n",
              "         [[-2.46399641e-02],\n",
              "          [-2.37976462e-02],\n",
              "          [-2.77950950e-02],\n",
              "          ...,\n",
              "          [ 3.59671041e-02],\n",
              "          [ 1.29922964e-02],\n",
              "          [ 8.22933577e-03]],\n",
              " \n",
              "         [[-3.24568450e-02],\n",
              "          [-2.71266699e-02],\n",
              "          [-2.69674417e-02],\n",
              "          ...,\n",
              "          [ 1.03792753e-02],\n",
              "          [ 1.45947458e-02],\n",
              "          [ 8.71942937e-03]]],\n",
              " \n",
              " \n",
              "        ...,\n",
              " \n",
              " \n",
              "        [[[-3.01870815e-02],\n",
              "          [-7.39433011e-03],\n",
              "          [-1.15656173e-02],\n",
              "          ...,\n",
              "          [ 2.65636891e-02],\n",
              "          [ 7.03054573e-03],\n",
              "          [ 9.26587544e-03]],\n",
              " \n",
              "         [[-2.75017340e-02],\n",
              "          [-2.23690178e-02],\n",
              "          [-1.38720348e-02],\n",
              "          ...,\n",
              "          [ 3.40881236e-02],\n",
              "          [ 7.36796949e-03],\n",
              "          [ 2.17463821e-05]],\n",
              " \n",
              "         [[-1.76079664e-02],\n",
              "          [-1.68112814e-02],\n",
              "          [-5.79160685e-03],\n",
              "          ...,\n",
              "          [-3.28860246e-03],\n",
              "          [ 7.61616742e-03],\n",
              "          [ 4.25315462e-04]],\n",
              " \n",
              "         ...,\n",
              " \n",
              "         [[ 2.39974521e-02],\n",
              "          [ 4.87061171e-03],\n",
              "          [-1.90367214e-02],\n",
              "          ...,\n",
              "          [-7.79200345e-04],\n",
              "          [ 2.64763832e-02],\n",
              "          [ 5.76179959e-02]],\n",
              " \n",
              "         [[ 4.43712389e-03],\n",
              "          [-2.48298165e-03],\n",
              "          [-1.35697424e-02],\n",
              "          ...,\n",
              "          [ 1.41879078e-02],\n",
              "          [ 4.55228761e-02],\n",
              "          [ 3.17526385e-02]],\n",
              " \n",
              "         [[-2.12463643e-02],\n",
              "          [-2.42372639e-02],\n",
              "          [-2.04102024e-02],\n",
              "          ...,\n",
              "          [ 5.23719937e-02],\n",
              "          [ 6.86816722e-02],\n",
              "          [ 1.39630809e-02]]],\n",
              " \n",
              " \n",
              "        [[[-9.51535162e-03],\n",
              "          [-5.87070640e-03],\n",
              "          [ 1.20246434e-03],\n",
              "          ...,\n",
              "          [-2.96701398e-02],\n",
              "          [-3.09319161e-02],\n",
              "          [-2.98571661e-02]],\n",
              " \n",
              "         [[-1.08195068e-02],\n",
              "          [ 8.06518830e-04],\n",
              "          [ 3.25139659e-03],\n",
              "          ...,\n",
              "          [-2.89206319e-02],\n",
              "          [-2.54509188e-02],\n",
              "          [-2.54632905e-02]],\n",
              " \n",
              "         [[-1.12015987e-03],\n",
              "          [ 7.46879540e-03],\n",
              "          [-8.68929364e-03],\n",
              "          ...,\n",
              "          [-1.90838911e-02],\n",
              "          [-1.57603957e-02],\n",
              "          [-1.99311879e-02]],\n",
              " \n",
              "         ...,\n",
              " \n",
              "         [[-1.34954965e-02],\n",
              "          [-1.13507872e-02],\n",
              "          [-6.69486029e-03],\n",
              "          ...,\n",
              "          [-1.68037694e-02],\n",
              "          [-2.36488823e-02],\n",
              "          [ 1.70285013e-02]],\n",
              " \n",
              "         [[ 1.99735202e-02],\n",
              "          [ 1.52764544e-02],\n",
              "          [ 5.06772213e-02],\n",
              "          ...,\n",
              "          [-8.41816142e-03],\n",
              "          [-1.25655383e-02],\n",
              "          [-5.57806809e-03]],\n",
              " \n",
              "         [[ 6.85532484e-03],\n",
              "          [ 5.97598613e-04],\n",
              "          [ 1.72232017e-02],\n",
              "          ...,\n",
              "          [ 2.50198971e-03],\n",
              "          [ 3.16939829e-03],\n",
              "          [ 1.17383269e-03]]],\n",
              " \n",
              " \n",
              "        [[[ 1.68833397e-02],\n",
              "          [-1.34362401e-02],\n",
              "          [-2.46070661e-02],\n",
              "          ...,\n",
              "          [ 4.85519506e-03],\n",
              "          [ 2.79191043e-03],\n",
              "          [ 1.85772893e-03]],\n",
              " \n",
              "         [[ 4.00083326e-02],\n",
              "          [-3.06508271e-03],\n",
              "          [-1.02531109e-02],\n",
              "          ...,\n",
              "          [ 3.59392958e-04],\n",
              "          [ 7.33917672e-03],\n",
              "          [ 1.10405905e-03]],\n",
              " \n",
              "         [[ 9.17350780e-03],\n",
              "          [-2.85363733e-03],\n",
              "          [ 1.21371048e-02],\n",
              "          ...,\n",
              "          [-3.11539369e-03],\n",
              "          [-5.90183772e-05],\n",
              "          [ 1.86888091e-02]],\n",
              " \n",
              "         ...,\n",
              " \n",
              "         [[-2.68073063e-02],\n",
              "          [-2.01493986e-02],\n",
              "          [-1.55053940e-02],\n",
              "          ...,\n",
              "          [-3.14265005e-02],\n",
              "          [-3.68987098e-02],\n",
              "          [-2.71345973e-02]],\n",
              " \n",
              "         [[-1.80383660e-02],\n",
              "          [-2.15287507e-02],\n",
              "          [-2.57792175e-02],\n",
              "          ...,\n",
              "          [-2.76491418e-02],\n",
              "          [-2.86072437e-02],\n",
              "          [-1.61601752e-02]],\n",
              " \n",
              "         [[-2.17889883e-02],\n",
              "          [-2.16823425e-02],\n",
              "          [-3.31780203e-02],\n",
              "          ...,\n",
              "          [-1.55301224e-02],\n",
              "          [-1.29248798e-02],\n",
              "          [-1.92016810e-02]]]], dtype=float32),\n",
              " array([1, 1, 1, 1, 0, 0, 0, 1, 0, 1, 1, 1, 1, 0, 0, 1], dtype=int32))"
            ]
          },
          "metadata": {},
          "execution_count": 62
        }
      ]
    },
    {
      "cell_type": "code",
      "source": [
        "max = np.max(X[0].flatten())\n",
        "print(max)"
      ],
      "metadata": {
        "colab": {
          "base_uri": "https://localhost:8080/"
        },
        "id": "jZJ0vdUbuOAe",
        "outputId": "c001afd7-7309-40fd-af1f-aa38e2b6876a"
      },
      "execution_count": 63,
      "outputs": [
        {
          "output_type": "stream",
          "name": "stdout",
          "text": [
            "0.35358882\n"
          ]
        }
      ]
    },
    {
      "cell_type": "code",
      "source": [
        "base_model.trainable = False"
      ],
      "metadata": {
        "id": "MqjnXnuuDlGK"
      },
      "execution_count": 71,
      "outputs": []
    },
    {
      "cell_type": "code",
      "source": [
        "max = 0.5 \n"
      ],
      "metadata": {
        "id": "AL-uXC5dEFsd"
      },
      "execution_count": 65,
      "outputs": []
    },
    {
      "cell_type": "code",
      "source": [
        "from keras.layers import *\n",
        "from keras import backend as K\n",
        "from keras.models import Model\n",
        "import numpy as np \n",
        "\n",
        "class Gray2VGGInput( Layer ) :\n",
        "    \"\"\"Custom conversion layer\n",
        "    \"\"\"\n",
        "    def build( self, x ) :\n",
        "        self.built = True\n",
        "        return\n",
        "\n",
        "    def call( self, x ) :\n",
        "        rgb_x = K.concatenate( [x,x,x], axis=-1 )\n",
        "        norm_x = rgb_x\n",
        "        return norm_x\n",
        "\n",
        "    def compute_output_shape( self, input_shape ) :\n",
        "        return input_shape[:3] + (3,)"
      ],
      "metadata": {
        "id": "bH2wi1O5GUSC"
      },
      "execution_count": 66,
      "outputs": []
    },
    {
      "cell_type": "code",
      "source": [
        "\n",
        "\n",
        "inputs = keras.Input(shape=(64, 64, 1))\n",
        "vgg_input_image = Gray2VGGInput( name='gray_to_rgb_norm')(inputs)\n",
        "x = vgg_input_image\n",
        "scale_layer = keras.layers.Rescaling(scale=1 / max, offset=0)\n",
        "x = scale_layer(x)\n",
        "x = base_model(x, training=False)\n",
        "x = keras.layers.GlobalAveragePooling2D()(x)\n",
        "x = keras.layers.Dense(8, activation='relu')(x)\n",
        "outputs = keras.layers.Dense(1)(x)\n",
        "model = keras.Model(inputs, outputs)"
      ],
      "metadata": {
        "id": "C1RW_N7AyKif"
      },
      "execution_count": 67,
      "outputs": []
    },
    {
      "cell_type": "code",
      "source": [
        "model.compile(optimizer=keras.optimizers.Adam(),\n",
        "              loss=keras.losses.BinaryCrossentropy(from_logits=True),\n",
        "              metrics=[keras.metrics.BinaryAccuracy()])"
      ],
      "metadata": {
        "id": "G4sTxfwv2wjV"
      },
      "execution_count": 68,
      "outputs": []
    },
    {
      "cell_type": "code",
      "source": [
        "model.summary()"
      ],
      "metadata": {
        "colab": {
          "base_uri": "https://localhost:8080/"
        },
        "id": "dExSIl0w4i2x",
        "outputId": "1b52ba0f-f846-4836-a307-923a659d1d62"
      },
      "execution_count": 72,
      "outputs": [
        {
          "output_type": "stream",
          "name": "stdout",
          "text": [
            "Model: \"model_5\"\n",
            "_________________________________________________________________\n",
            " Layer (type)                Output Shape              Param #   \n",
            "=================================================================\n",
            " input_15 (InputLayer)       [(None, 64, 64, 1)]       0         \n",
            "                                                                 \n",
            " gray_to_rgb_norm (Gray2VGGI  (None, 64, 64, 3)        0         \n",
            " nput)                                                           \n",
            "                                                                 \n",
            " rescaling_8 (Rescaling)     (None, 64, 64, 3)         0         \n",
            "                                                                 \n",
            " vgg16 (Functional)          (None, 2, 2, 512)         14714688  \n",
            "                                                                 \n",
            " global_average_pooling2d_8   (None, 512)              0         \n",
            " (GlobalAveragePooling2D)                                        \n",
            "                                                                 \n",
            " dense_8 (Dense)             (None, 8)                 4104      \n",
            "                                                                 \n",
            " dense_9 (Dense)             (None, 1)                 9         \n",
            "                                                                 \n",
            "=================================================================\n",
            "Total params: 14,718,801\n",
            "Trainable params: 14,718,801\n",
            "Non-trainable params: 0\n",
            "_________________________________________________________________\n"
          ]
        }
      ]
    },
    {
      "cell_type": "code",
      "source": [
        "# TASK: add validation data (https://keras.io/api/models/model_training_apis/)\n",
        "model.fit(train_gen, epochs=1, validation_data=valid_gen)"
      ],
      "metadata": {
        "colab": {
          "base_uri": "https://localhost:8080/",
          "height": 348
        },
        "id": "uOFZ5cM02_5M",
        "outputId": "af56f48c-5a21-4e68-c494-1879dd7a9039"
      },
      "execution_count": 73,
      "outputs": [
        {
          "output_type": "stream",
          "name": "stdout",
          "text": [
            " 28/638 [>.............................] - ETA: 40:48 - loss: 0.6902 - binary_accuracy: 0.5915"
          ]
        },
        {
          "output_type": "error",
          "ename": "KeyboardInterrupt",
          "evalue": "ignored",
          "traceback": [
            "\u001b[0;31m---------------------------------------------------------------------------\u001b[0m",
            "\u001b[0;31mKeyboardInterrupt\u001b[0m                         Traceback (most recent call last)",
            "\u001b[0;32m<ipython-input-73-4fc0e210c090>\u001b[0m in \u001b[0;36m<module>\u001b[0;34m()\u001b[0m\n\u001b[1;32m      1\u001b[0m \u001b[0;31m# TASK: add validation data (https://keras.io/api/models/model_training_apis/)\u001b[0m\u001b[0;34m\u001b[0m\u001b[0;34m\u001b[0m\u001b[0;34m\u001b[0m\u001b[0m\n\u001b[0;32m----> 2\u001b[0;31m \u001b[0mmodel\u001b[0m\u001b[0;34m.\u001b[0m\u001b[0mfit\u001b[0m\u001b[0;34m(\u001b[0m\u001b[0mtrain_gen\u001b[0m\u001b[0;34m,\u001b[0m \u001b[0mepochs\u001b[0m\u001b[0;34m=\u001b[0m\u001b[0;36m1\u001b[0m\u001b[0;34m,\u001b[0m \u001b[0mvalidation_data\u001b[0m\u001b[0;34m=\u001b[0m\u001b[0mvalid_gen\u001b[0m\u001b[0;34m)\u001b[0m\u001b[0;34m\u001b[0m\u001b[0;34m\u001b[0m\u001b[0m\n\u001b[0m",
            "\u001b[0;32m/usr/local/lib/python3.7/dist-packages/keras/utils/traceback_utils.py\u001b[0m in \u001b[0;36merror_handler\u001b[0;34m(*args, **kwargs)\u001b[0m\n\u001b[1;32m     62\u001b[0m     \u001b[0mfiltered_tb\u001b[0m \u001b[0;34m=\u001b[0m \u001b[0;32mNone\u001b[0m\u001b[0;34m\u001b[0m\u001b[0;34m\u001b[0m\u001b[0m\n\u001b[1;32m     63\u001b[0m     \u001b[0;32mtry\u001b[0m\u001b[0;34m:\u001b[0m\u001b[0;34m\u001b[0m\u001b[0;34m\u001b[0m\u001b[0m\n\u001b[0;32m---> 64\u001b[0;31m       \u001b[0;32mreturn\u001b[0m \u001b[0mfn\u001b[0m\u001b[0;34m(\u001b[0m\u001b[0;34m*\u001b[0m\u001b[0margs\u001b[0m\u001b[0;34m,\u001b[0m \u001b[0;34m**\u001b[0m\u001b[0mkwargs\u001b[0m\u001b[0;34m)\u001b[0m\u001b[0;34m\u001b[0m\u001b[0;34m\u001b[0m\u001b[0m\n\u001b[0m\u001b[1;32m     65\u001b[0m     \u001b[0;32mexcept\u001b[0m \u001b[0mException\u001b[0m \u001b[0;32mas\u001b[0m \u001b[0me\u001b[0m\u001b[0;34m:\u001b[0m  \u001b[0;31m# pylint: disable=broad-except\u001b[0m\u001b[0;34m\u001b[0m\u001b[0;34m\u001b[0m\u001b[0m\n\u001b[1;32m     66\u001b[0m       \u001b[0mfiltered_tb\u001b[0m \u001b[0;34m=\u001b[0m \u001b[0m_process_traceback_frames\u001b[0m\u001b[0;34m(\u001b[0m\u001b[0me\u001b[0m\u001b[0;34m.\u001b[0m\u001b[0m__traceback__\u001b[0m\u001b[0;34m)\u001b[0m\u001b[0;34m\u001b[0m\u001b[0;34m\u001b[0m\u001b[0m\n",
            "\u001b[0;32m/usr/local/lib/python3.7/dist-packages/keras/engine/training.py\u001b[0m in \u001b[0;36mfit\u001b[0;34m(self, x, y, batch_size, epochs, verbose, callbacks, validation_split, validation_data, shuffle, class_weight, sample_weight, initial_epoch, steps_per_epoch, validation_steps, validation_batch_size, validation_freq, max_queue_size, workers, use_multiprocessing)\u001b[0m\n\u001b[1;32m   1382\u001b[0m                 _r=1):\n\u001b[1;32m   1383\u001b[0m               \u001b[0mcallbacks\u001b[0m\u001b[0;34m.\u001b[0m\u001b[0mon_train_batch_begin\u001b[0m\u001b[0;34m(\u001b[0m\u001b[0mstep\u001b[0m\u001b[0;34m)\u001b[0m\u001b[0;34m\u001b[0m\u001b[0;34m\u001b[0m\u001b[0m\n\u001b[0;32m-> 1384\u001b[0;31m               \u001b[0mtmp_logs\u001b[0m \u001b[0;34m=\u001b[0m \u001b[0mself\u001b[0m\u001b[0;34m.\u001b[0m\u001b[0mtrain_function\u001b[0m\u001b[0;34m(\u001b[0m\u001b[0miterator\u001b[0m\u001b[0;34m)\u001b[0m\u001b[0;34m\u001b[0m\u001b[0;34m\u001b[0m\u001b[0m\n\u001b[0m\u001b[1;32m   1385\u001b[0m               \u001b[0;32mif\u001b[0m \u001b[0mdata_handler\u001b[0m\u001b[0;34m.\u001b[0m\u001b[0mshould_sync\u001b[0m\u001b[0;34m:\u001b[0m\u001b[0;34m\u001b[0m\u001b[0;34m\u001b[0m\u001b[0m\n\u001b[1;32m   1386\u001b[0m                 \u001b[0mcontext\u001b[0m\u001b[0;34m.\u001b[0m\u001b[0masync_wait\u001b[0m\u001b[0;34m(\u001b[0m\u001b[0;34m)\u001b[0m\u001b[0;34m\u001b[0m\u001b[0;34m\u001b[0m\u001b[0m\n",
            "\u001b[0;32m/usr/local/lib/python3.7/dist-packages/tensorflow/python/util/traceback_utils.py\u001b[0m in \u001b[0;36merror_handler\u001b[0;34m(*args, **kwargs)\u001b[0m\n\u001b[1;32m    148\u001b[0m     \u001b[0mfiltered_tb\u001b[0m \u001b[0;34m=\u001b[0m \u001b[0;32mNone\u001b[0m\u001b[0;34m\u001b[0m\u001b[0;34m\u001b[0m\u001b[0m\n\u001b[1;32m    149\u001b[0m     \u001b[0;32mtry\u001b[0m\u001b[0;34m:\u001b[0m\u001b[0;34m\u001b[0m\u001b[0;34m\u001b[0m\u001b[0m\n\u001b[0;32m--> 150\u001b[0;31m       \u001b[0;32mreturn\u001b[0m \u001b[0mfn\u001b[0m\u001b[0;34m(\u001b[0m\u001b[0;34m*\u001b[0m\u001b[0margs\u001b[0m\u001b[0;34m,\u001b[0m \u001b[0;34m**\u001b[0m\u001b[0mkwargs\u001b[0m\u001b[0;34m)\u001b[0m\u001b[0;34m\u001b[0m\u001b[0;34m\u001b[0m\u001b[0m\n\u001b[0m\u001b[1;32m    151\u001b[0m     \u001b[0;32mexcept\u001b[0m \u001b[0mException\u001b[0m \u001b[0;32mas\u001b[0m \u001b[0me\u001b[0m\u001b[0;34m:\u001b[0m\u001b[0;34m\u001b[0m\u001b[0;34m\u001b[0m\u001b[0m\n\u001b[1;32m    152\u001b[0m       \u001b[0mfiltered_tb\u001b[0m \u001b[0;34m=\u001b[0m \u001b[0m_process_traceback_frames\u001b[0m\u001b[0;34m(\u001b[0m\u001b[0me\u001b[0m\u001b[0;34m.\u001b[0m\u001b[0m__traceback__\u001b[0m\u001b[0;34m)\u001b[0m\u001b[0;34m\u001b[0m\u001b[0;34m\u001b[0m\u001b[0m\n",
            "\u001b[0;32m/usr/local/lib/python3.7/dist-packages/tensorflow/python/eager/def_function.py\u001b[0m in \u001b[0;36m__call__\u001b[0;34m(self, *args, **kwds)\u001b[0m\n\u001b[1;32m    913\u001b[0m \u001b[0;34m\u001b[0m\u001b[0m\n\u001b[1;32m    914\u001b[0m       \u001b[0;32mwith\u001b[0m \u001b[0mOptionalXlaContext\u001b[0m\u001b[0;34m(\u001b[0m\u001b[0mself\u001b[0m\u001b[0;34m.\u001b[0m\u001b[0m_jit_compile\u001b[0m\u001b[0;34m)\u001b[0m\u001b[0;34m:\u001b[0m\u001b[0;34m\u001b[0m\u001b[0;34m\u001b[0m\u001b[0m\n\u001b[0;32m--> 915\u001b[0;31m         \u001b[0mresult\u001b[0m \u001b[0;34m=\u001b[0m \u001b[0mself\u001b[0m\u001b[0;34m.\u001b[0m\u001b[0m_call\u001b[0m\u001b[0;34m(\u001b[0m\u001b[0;34m*\u001b[0m\u001b[0margs\u001b[0m\u001b[0;34m,\u001b[0m \u001b[0;34m**\u001b[0m\u001b[0mkwds\u001b[0m\u001b[0;34m)\u001b[0m\u001b[0;34m\u001b[0m\u001b[0;34m\u001b[0m\u001b[0m\n\u001b[0m\u001b[1;32m    916\u001b[0m \u001b[0;34m\u001b[0m\u001b[0m\n\u001b[1;32m    917\u001b[0m       \u001b[0mnew_tracing_count\u001b[0m \u001b[0;34m=\u001b[0m \u001b[0mself\u001b[0m\u001b[0;34m.\u001b[0m\u001b[0mexperimental_get_tracing_count\u001b[0m\u001b[0;34m(\u001b[0m\u001b[0;34m)\u001b[0m\u001b[0;34m\u001b[0m\u001b[0;34m\u001b[0m\u001b[0m\n",
            "\u001b[0;32m/usr/local/lib/python3.7/dist-packages/tensorflow/python/eager/def_function.py\u001b[0m in \u001b[0;36m_call\u001b[0;34m(self, *args, **kwds)\u001b[0m\n\u001b[1;32m    945\u001b[0m       \u001b[0;31m# In this case we have created variables on the first call, so we run the\u001b[0m\u001b[0;34m\u001b[0m\u001b[0;34m\u001b[0m\u001b[0;34m\u001b[0m\u001b[0m\n\u001b[1;32m    946\u001b[0m       \u001b[0;31m# defunned version which is guaranteed to never create variables.\u001b[0m\u001b[0;34m\u001b[0m\u001b[0;34m\u001b[0m\u001b[0;34m\u001b[0m\u001b[0m\n\u001b[0;32m--> 947\u001b[0;31m       \u001b[0;32mreturn\u001b[0m \u001b[0mself\u001b[0m\u001b[0;34m.\u001b[0m\u001b[0m_stateless_fn\u001b[0m\u001b[0;34m(\u001b[0m\u001b[0;34m*\u001b[0m\u001b[0margs\u001b[0m\u001b[0;34m,\u001b[0m \u001b[0;34m**\u001b[0m\u001b[0mkwds\u001b[0m\u001b[0;34m)\u001b[0m  \u001b[0;31m# pylint: disable=not-callable\u001b[0m\u001b[0;34m\u001b[0m\u001b[0;34m\u001b[0m\u001b[0m\n\u001b[0m\u001b[1;32m    948\u001b[0m     \u001b[0;32melif\u001b[0m \u001b[0mself\u001b[0m\u001b[0;34m.\u001b[0m\u001b[0m_stateful_fn\u001b[0m \u001b[0;32mis\u001b[0m \u001b[0;32mnot\u001b[0m \u001b[0;32mNone\u001b[0m\u001b[0;34m:\u001b[0m\u001b[0;34m\u001b[0m\u001b[0;34m\u001b[0m\u001b[0m\n\u001b[1;32m    949\u001b[0m       \u001b[0;31m# Release the lock early so that multiple threads can perform the call\u001b[0m\u001b[0;34m\u001b[0m\u001b[0;34m\u001b[0m\u001b[0;34m\u001b[0m\u001b[0m\n",
            "\u001b[0;32m/usr/local/lib/python3.7/dist-packages/tensorflow/python/eager/function.py\u001b[0m in \u001b[0;36m__call__\u001b[0;34m(self, *args, **kwargs)\u001b[0m\n\u001b[1;32m   2955\u001b[0m        filtered_flat_args) = self._maybe_define_function(args, kwargs)\n\u001b[1;32m   2956\u001b[0m     return graph_function._call_flat(\n\u001b[0;32m-> 2957\u001b[0;31m         filtered_flat_args, captured_inputs=graph_function.captured_inputs)  # pylint: disable=protected-access\n\u001b[0m\u001b[1;32m   2958\u001b[0m \u001b[0;34m\u001b[0m\u001b[0m\n\u001b[1;32m   2959\u001b[0m   \u001b[0;34m@\u001b[0m\u001b[0mproperty\u001b[0m\u001b[0;34m\u001b[0m\u001b[0;34m\u001b[0m\u001b[0m\n",
            "\u001b[0;32m/usr/local/lib/python3.7/dist-packages/tensorflow/python/eager/function.py\u001b[0m in \u001b[0;36m_call_flat\u001b[0;34m(self, args, captured_inputs, cancellation_manager)\u001b[0m\n\u001b[1;32m   1852\u001b[0m       \u001b[0;31m# No tape is watching; skip to running the function.\u001b[0m\u001b[0;34m\u001b[0m\u001b[0;34m\u001b[0m\u001b[0;34m\u001b[0m\u001b[0m\n\u001b[1;32m   1853\u001b[0m       return self._build_call_outputs(self._inference_function.call(\n\u001b[0;32m-> 1854\u001b[0;31m           ctx, args, cancellation_manager=cancellation_manager))\n\u001b[0m\u001b[1;32m   1855\u001b[0m     forward_backward = self._select_forward_and_backward_functions(\n\u001b[1;32m   1856\u001b[0m         \u001b[0margs\u001b[0m\u001b[0;34m,\u001b[0m\u001b[0;34m\u001b[0m\u001b[0;34m\u001b[0m\u001b[0m\n",
            "\u001b[0;32m/usr/local/lib/python3.7/dist-packages/tensorflow/python/eager/function.py\u001b[0m in \u001b[0;36mcall\u001b[0;34m(self, ctx, args, cancellation_manager)\u001b[0m\n\u001b[1;32m    502\u001b[0m               \u001b[0minputs\u001b[0m\u001b[0;34m=\u001b[0m\u001b[0margs\u001b[0m\u001b[0;34m,\u001b[0m\u001b[0;34m\u001b[0m\u001b[0;34m\u001b[0m\u001b[0m\n\u001b[1;32m    503\u001b[0m               \u001b[0mattrs\u001b[0m\u001b[0;34m=\u001b[0m\u001b[0mattrs\u001b[0m\u001b[0;34m,\u001b[0m\u001b[0;34m\u001b[0m\u001b[0;34m\u001b[0m\u001b[0m\n\u001b[0;32m--> 504\u001b[0;31m               ctx=ctx)\n\u001b[0m\u001b[1;32m    505\u001b[0m         \u001b[0;32melse\u001b[0m\u001b[0;34m:\u001b[0m\u001b[0;34m\u001b[0m\u001b[0;34m\u001b[0m\u001b[0m\n\u001b[1;32m    506\u001b[0m           outputs = execute.execute_with_cancellation(\n",
            "\u001b[0;32m/usr/local/lib/python3.7/dist-packages/tensorflow/python/eager/execute.py\u001b[0m in \u001b[0;36mquick_execute\u001b[0;34m(op_name, num_outputs, inputs, attrs, ctx, name)\u001b[0m\n\u001b[1;32m     53\u001b[0m     \u001b[0mctx\u001b[0m\u001b[0;34m.\u001b[0m\u001b[0mensure_initialized\u001b[0m\u001b[0;34m(\u001b[0m\u001b[0;34m)\u001b[0m\u001b[0;34m\u001b[0m\u001b[0;34m\u001b[0m\u001b[0m\n\u001b[1;32m     54\u001b[0m     tensors = pywrap_tfe.TFE_Py_Execute(ctx._handle, device_name, op_name,\n\u001b[0;32m---> 55\u001b[0;31m                                         inputs, attrs, num_outputs)\n\u001b[0m\u001b[1;32m     56\u001b[0m   \u001b[0;32mexcept\u001b[0m \u001b[0mcore\u001b[0m\u001b[0;34m.\u001b[0m\u001b[0m_NotOkStatusException\u001b[0m \u001b[0;32mas\u001b[0m \u001b[0me\u001b[0m\u001b[0;34m:\u001b[0m\u001b[0;34m\u001b[0m\u001b[0;34m\u001b[0m\u001b[0m\n\u001b[1;32m     57\u001b[0m     \u001b[0;32mif\u001b[0m \u001b[0mname\u001b[0m \u001b[0;32mis\u001b[0m \u001b[0;32mnot\u001b[0m \u001b[0;32mNone\u001b[0m\u001b[0;34m:\u001b[0m\u001b[0;34m\u001b[0m\u001b[0;34m\u001b[0m\u001b[0m\n",
            "\u001b[0;31mKeyboardInterrupt\u001b[0m: "
          ]
        }
      ]
    },
    {
      "cell_type": "code",
      "source": [
        ""
      ],
      "metadata": {
        "id": "q05zczrRnHlB"
      },
      "execution_count": null,
      "outputs": []
    }
  ]
}