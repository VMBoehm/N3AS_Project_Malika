{
  "nbformat": 4,
  "nbformat_minor": 0,
  "metadata": {
    "colab": {
      "name": "Copy of MINST-ROC.ipynb",
      "provenance": [],
      "include_colab_link": true
    },
    "kernelspec": {
      "name": "python3",
      "display_name": "Python 3"
    },
    "language_info": {
      "name": "python"
    }
  },
  "cells": [
    {
      "cell_type": "markdown",
      "metadata": {
        "id": "view-in-github",
        "colab_type": "text"
      },
      "source": [
        "<a href=\"https://colab.research.google.com/github/VMBoehm/N3AS_Project_Malika/blob/main/Copy_with_working_accuracy_really_%20this_time_of_MINST_ROC_VB_comments_and_additions.ipynb\" target=\"_parent\"><img src=\"https://colab.research.google.com/assets/colab-badge.svg\" alt=\"Open In Colab\"/></a>"
      ]
    },
    {
      "cell_type": "code",
      "execution_count": 1,
      "metadata": {
        "id": "1t4_n2egH0gO"
      },
      "outputs": [],
      "source": [
        "from sklearn import datasets as datasets\n",
        "from sklearn import model_selection as ms\n",
        "import matplotlib.pyplot as plt\n",
        "import numpy as np"
      ]
    },
    {
      "cell_type": "code",
      "source": [
        "import tensorflow\n",
        "from tensorflow import keras\n",
        "from tensorflow.keras import layers\n",
        "from keras.models import Sequential\n",
        "from keras.layers import Dense"
      ],
      "metadata": {
        "id": "Zoc5UdiyH_R5"
      },
      "execution_count": 2,
      "outputs": []
    },
    {
      "cell_type": "code",
      "source": [
        "num_classes = 10 \n",
        "input_shape = (28, 28, 1)\n",
        "\n",
        "(X_train, y_train), (X_test, y_test) = keras.datasets.mnist.load_data()\n",
        "\n",
        "# Scale images to the [0, 1] range\n",
        "X_train = X_train.astype(\"float32\") / 255\n",
        "X_test = X_test.astype(\"float32\") / 255\n",
        "# Make sure images have shape (28, 28, 1)\n",
        "X_train = np.expand_dims(X_train, -1)\n",
        "X_test = np.expand_dims(X_test, -1)\n",
        "print(\"x_train shape:\", X_train.shape)\n",
        "print(X_train.shape[0], \"train samples\")\n",
        "print(X_test.shape[0], \"test samples\")\n",
        "\n",
        "\n",
        "y_train = keras.utils.to_categorical(y_train, num_classes)\n",
        "y_test = keras.utils.to_categorical(y_test, num_classes)\n",
        "\n",
        "print('X_train:',np.shape(X_train))\n",
        "print('y_train:',np.shape(y_train))\n",
        "print('X_test:',np.shape(X_test))\n",
        "print('y_test:',np.shape(y_test))"
      ],
      "metadata": {
        "colab": {
          "base_uri": "https://localhost:8080/"
        },
        "id": "XCx7r0cxICpZ",
        "outputId": "2465bf18-13e3-4de6-ca99-d4d8f9ff9202"
      },
      "execution_count": 3,
      "outputs": [
        {
          "output_type": "stream",
          "name": "stdout",
          "text": [
            "Downloading data from https://storage.googleapis.com/tensorflow/tf-keras-datasets/mnist.npz\n",
            "11493376/11490434 [==============================] - 0s 0us/step\n",
            "11501568/11490434 [==============================] - 0s 0us/step\n",
            "x_train shape: (60000, 28, 28, 1)\n",
            "60000 train samples\n",
            "10000 test samples\n",
            "X_train: (60000, 28, 28, 1)\n",
            "y_train: (60000, 10)\n",
            "X_test: (10000, 28, 28, 1)\n",
            "y_test: (10000, 10)\n"
          ]
        }
      ]
    },
    {
      "cell_type": "code",
      "source": [
        "basic_model = Sequential(\n",
        "    [\n",
        "        keras.Input(shape=input_shape),\n",
        "        layers.Conv2D(32, kernel_size=(3, 3), activation=\"relu\"),\n",
        "        layers.MaxPooling2D(pool_size=(2, 2)),\n",
        "        layers.Conv2D(64, kernel_size=(3, 3), activation=\"relu\"),\n",
        "        layers.MaxPooling2D(pool_size=(2, 2)),\n",
        "        layers.Flatten(),\n",
        "        layers.Dropout(0.5),\n",
        "        layers.Dense(num_classes, activation=\"softmax\"),\n",
        "    ]\n",
        ")\n",
        "basic_model.summary()"
      ],
      "metadata": {
        "colab": {
          "base_uri": "https://localhost:8080/"
        },
        "id": "KJ_54DqfIHeC",
        "outputId": "3a5a665f-983c-4e07-a9f1-89e98790c07c"
      },
      "execution_count": 4,
      "outputs": [
        {
          "output_type": "stream",
          "name": "stdout",
          "text": [
            "Model: \"sequential\"\n",
            "_________________________________________________________________\n",
            " Layer (type)                Output Shape              Param #   \n",
            "=================================================================\n",
            " conv2d (Conv2D)             (None, 26, 26, 32)        320       \n",
            "                                                                 \n",
            " max_pooling2d (MaxPooling2D  (None, 13, 13, 32)       0         \n",
            " )                                                               \n",
            "                                                                 \n",
            " conv2d_1 (Conv2D)           (None, 11, 11, 64)        18496     \n",
            "                                                                 \n",
            " max_pooling2d_1 (MaxPooling  (None, 5, 5, 64)         0         \n",
            " 2D)                                                             \n",
            "                                                                 \n",
            " flatten (Flatten)           (None, 1600)              0         \n",
            "                                                                 \n",
            " dropout (Dropout)           (None, 1600)              0         \n",
            "                                                                 \n",
            " dense (Dense)               (None, 10)                16010     \n",
            "                                                                 \n",
            "=================================================================\n",
            "Total params: 34,826\n",
            "Trainable params: 34,826\n",
            "Non-trainable params: 0\n",
            "_________________________________________________________________\n"
          ]
        }
      ]
    },
    {
      "cell_type": "code",
      "source": [
        "print('X_train:',np.shape(X_train))\n",
        "print('y_train:',np.shape(y_train))\n",
        "print('X_test:',np.shape(X_test))\n",
        "print('y_test:',np.shape(y_test))"
      ],
      "metadata": {
        "colab": {
          "base_uri": "https://localhost:8080/"
        },
        "id": "cldOEFdQGjPh",
        "outputId": "5e4b7aa2-ae76-4f24-811e-27a557507016"
      },
      "execution_count": 5,
      "outputs": [
        {
          "output_type": "stream",
          "name": "stdout",
          "text": [
            "X_train: (60000, 28, 28, 1)\n",
            "y_train: (60000, 10)\n",
            "X_test: (10000, 28, 28, 1)\n",
            "y_test: (10000, 10)\n"
          ]
        }
      ]
    },
    {
      "cell_type": "code",
      "source": [
        "opt = keras.optimizers.Adam(learning_rate=0.01)\n",
        "basic_model.compile(loss = 'categorical_crossentropy', optimizer = opt, metrics = ['accuracy'])"
      ],
      "metadata": {
        "id": "8wdh0bF2IMNN"
      },
      "execution_count": 6,
      "outputs": []
    },
    {
      "cell_type": "code",
      "source": [
        "basic_model.fit(X_train, y_train, batch_size=128, epochs=1, validation_split= 0.1)"
      ],
      "metadata": {
        "colab": {
          "base_uri": "https://localhost:8080/"
        },
        "id": "Ix5q0AhEISj2",
        "outputId": "d357720a-ec0f-4368-982f-cff67386f521"
      },
      "execution_count": 7,
      "outputs": [
        {
          "output_type": "stream",
          "name": "stdout",
          "text": [
            "422/422 [==============================] - 41s 95ms/step - loss: 0.1799 - accuracy: 0.9454 - val_loss: 0.0556 - val_accuracy: 0.9858\n"
          ]
        },
        {
          "output_type": "execute_result",
          "data": {
            "text/plain": [
              "<keras.callbacks.History at 0x7f7745160b50>"
            ]
          },
          "metadata": {},
          "execution_count": 7
        }
      ]
    },
    {
      "cell_type": "code",
      "source": [
        "loss_and_metrics = basic_model.evaluate(X_test, y_test)\n",
        "print('Loss = ',loss_and_metrics[0])\n",
        "print('Accuracy = ',loss_and_metrics[1])"
      ],
      "metadata": {
        "colab": {
          "base_uri": "https://localhost:8080/"
        },
        "id": "IcKOcqc_IWjU",
        "outputId": "d9b95f31-4beb-41f2-cfbb-eb360c634b2b"
      },
      "execution_count": 8,
      "outputs": [
        {
          "output_type": "stream",
          "name": "stdout",
          "text": [
            "313/313 [==============================] - 2s 8ms/step - loss: 0.0488 - accuracy: 0.9842\n",
            "Loss =  0.04879628121852875\n",
            "Accuracy =  0.9842000007629395\n"
          ]
        }
      ]
    },
    {
      "cell_type": "code",
      "source": [
        "y_score = basic_model.predict(X_test)"
      ],
      "metadata": {
        "id": "nUlmpJafLCUD"
      },
      "execution_count": 9,
      "outputs": []
    },
    {
      "cell_type": "code",
      "source": [
        "y_score = np.argmax(y_score,axis=1)"
      ],
      "metadata": {
        "id": "p6DiFT5dXbj4"
      },
      "execution_count": 17,
      "outputs": []
    },
    {
      "cell_type": "code",
      "source": [
        "from sklearn.preprocessing import OneHotEncoder"
      ],
      "metadata": {
        "id": "BRFW7Hjvba8z"
      },
      "execution_count": 20,
      "outputs": []
    },
    {
      "cell_type": "code",
      "source": [
        "enc = OneHotEncoder(handle_unknown='ignore', sparse=False, categories=[np.arange(10)])"
      ],
      "metadata": {
        "id": "Dx70r9XocDAJ"
      },
      "execution_count": 49,
      "outputs": []
    },
    {
      "cell_type": "code",
      "source": [
        "one_hot = enc.fit(y_score[:,None]).transform(y_score[:,None])"
      ],
      "metadata": {
        "id": "BbdnzRh3dNWm"
      },
      "execution_count": 50,
      "outputs": []
    },
    {
      "cell_type": "code",
      "source": [
        "# VB: calculating accuracy in one line :)"
      ],
      "metadata": {
        "id": "3XMEUPV6fb3n"
      },
      "execution_count": 62,
      "outputs": []
    },
    {
      "cell_type": "code",
      "source": [
        "np.sum(np.prod(y_test==one_hot,axis=1))/len(y_test)"
      ],
      "metadata": {
        "id": "duVDp6UTdyuI",
        "outputId": "dd9f5864-e70c-4813-ff6b-7913c8b06dd1",
        "colab": {
          "base_uri": "https://localhost:8080/"
        }
      },
      "execution_count": 63,
      "outputs": [
        {
          "output_type": "execute_result",
          "data": {
            "text/plain": [
              "0.9842"
            ]
          },
          "metadata": {},
          "execution_count": 63
        }
      ]
    },
    {
      "cell_type": "code",
      "source": [
        "import numpy as np\n",
        "from scipy import interp\n",
        "import matplotlib.pyplot as plt\n",
        "from itertools import cycle\n",
        "from sklearn.metrics import roc_curve, auc\n",
        "\n",
        "# Plot linewidth.\n",
        "lw = 2\n",
        "\n",
        "# Compute ROC curve and ROC area for each class\n",
        "fpr = dict()\n",
        "tpr = dict()\n",
        "roc_auc = dict()\n",
        "for i in range(num_classes):\n",
        "    # VB: You were passing two arrays that could no be sensibly compared. Both need to be one hot encoded.\n",
        "    fpr[i], tpr[i], _ = roc_curve(y_test[:, i], np.squeeze(one_hot[:, i]))\n",
        "    roc_auc[i]        = auc(fpr[i], tpr[i])\n",
        "\n",
        "\n",
        "colors = cycle(['blue', 'darkorange', 'red'])\n",
        "for i, color in zip(range(num_classes), colors):\n",
        "    plt.plot(fpr[i], tpr[i], color=color, lw=lw,\n",
        "             label='ROC curve of class {0} (area = {1:0.3f})'\n",
        "             ''.format(i, roc_auc[i]))\n",
        "\n",
        "plt.plot([0, 1], [0, 1], 'k--', lw=lw)\n",
        "#plt.xlim(-0.005, 0.06)\n",
        "#plt.ylim(0.99, 1.001)\n",
        "plt.xlabel('False Positive Rate')\n",
        "plt.ylabel('True Positive Rate')\n",
        "plt.legend(loc=\"lower right\")\n",
        "plt.show()    "
      ],
      "metadata": {
        "colab": {
          "base_uri": "https://localhost:8080/",
          "height": 279
        },
        "id": "1cPb4LcIIynl",
        "outputId": "650ea84e-17f8-4d6d-9dc1-6f6dbec4827f"
      },
      "execution_count": 65,
      "outputs": [
        {
          "output_type": "display_data",
          "data": {
            "text/plain": [
              "<Figure size 432x288 with 1 Axes>"
            ],
            "image/png": "[encoded data removed]"
          },
          "metadata": {
            "needs_background": "light"
          }
        }
      ]
    },
    {
      "cell_type": "markdown",
      "source": [
        "VB: Total accuracy calculation looks great!"
      ],
      "metadata": {
        "id": "DvlD16PmZGyG"
      }
    },
    {
      "cell_type": "code",
      "source": [
        "## calulate accuracy by hand\n",
        "probs  = basic_model.predict(X_test)\n",
        "y_pred = (np.argmax(probs,axis=1)).astype('int')\n",
        "\n",
        "## VB: you can use argmax here, but since this is one-hot encoded you could as well just do np.where(y_test==1)[1]\n",
        "y_true = np.where(y_test==1)[1]#(np.argmax(y_test,axis=1)).astype('int')\n",
        "\n",
        "print(y_pred)\n",
        "print(y_true)\n",
        "\n",
        "def tot_acc(prediction, true_value):\n",
        "\tcount= 0\n",
        "\tfor i in range(len(y_true)):\n",
        "\t\tif y_pred[i] == y_true[i]:\n",
        "\t\t\tcount = count +1\n",
        "\tacc= count/len(y_true)*100\n",
        "\treturn print(\"Your total accuracy is :\",acc,\"%\")\n",
        "\n",
        "\n",
        "tot_acc(y_pred,y_true)"
      ],
      "metadata": {
        "colab": {
          "base_uri": "https://localhost:8080/"
        },
        "id": "XO40bWo-Nnyy",
        "outputId": "5128ecf2-6d36-41ab-cfc4-9f56f7786476"
      },
      "execution_count": 16,
      "outputs": [
        {
          "output_type": "stream",
          "name": "stdout",
          "text": [
            "[7 2 1 ... 4 5 6]\n",
            "[7 2 1 ... 4 5 6]\n",
            "Your total accuracy is : 98.42 %\n"
          ]
        }
      ]
    },
    {
      "cell_type": "code",
      "source": [
        "# VB: Can you explain to me line-by-line what this does and why?\n",
        "def singular_acc(target_class):\n",
        "  y_p = y_pred[y_pred==target_class]\n",
        "  y_t = y_true[y_true==target_class]\n",
        "  count = 0\n",
        "  if len(y_t)==len(y_p):\n",
        "    for i in range(y_t):\n",
        "      if y_p[i]==y_t[i]:\n",
        "        count = count+1\n",
        "  else:\n",
        "    if len(y_p) > len(y_t):\n",
        "      count=  -(len(y_p)-len(y_t))\n",
        "      for i in range(len(y_t)):\n",
        "        if y_p[i] == y_t[i]:\n",
        "          count = count +1 \n",
        "    elif len(y_p) < len(y_t):\n",
        "      count = -(len(y_t)-len(y_p))\n",
        "      for i in range(len(y_p)):\n",
        "        if y_p[i] == y_t[i]:\n",
        "          count = count +1\n",
        "  acc = count/len(y_t)*100\n",
        "\n",
        "\n",
        "\n",
        "\n",
        "  return print(acc,\"% for class\", target_class)\n",
        " \n",
        "\n",
        "for i in range (10):\n",
        "  singular_acc(i)\n",
        "\n",
        "\n",
        "\n",
        "\n",
        "\n",
        "\n"
      ],
      "metadata": {
        "colab": {
          "base_uri": "https://localhost:8080/"
        },
        "id": "xvyjHM-ikDXB",
        "outputId": "25923967-f89b-4d99-e77c-dc7567faf33c"
      },
      "execution_count": null,
      "outputs": [
        {
          "output_type": "stream",
          "name": "stdout",
          "text": [
            "98.36734693877551 % for class 0\n",
            "97.53303964757708 % for class 1\n",
            "99.2248062015504 % for class 2\n",
            "99.9009900990099 % for class 3\n",
            "99.18533604887983 % for class 4\n",
            "99.77578475336323 % for class 5\n",
            "99.47807933194154 % for class 6\n",
            "99.22178988326849 % for class 7\n",
            "98.870636550308 % for class 8\n",
            "93.45887016848364 % for class 9\n"
          ]
        }
      ]
    }
  ]
}