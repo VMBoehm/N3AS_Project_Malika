{
  "nbformat": 4,
  "nbformat_minor": 0,
  "metadata": {
    "colab": {
      "name": "Copy of MINST-ROC.ipynb",
      "provenance": [],
      "authorship_tag": "ABX9TyM6uXUXCLt0YwWISd+4XAn4",
      "include_colab_link": true
    },
    "kernelspec": {
      "name": "python3",
      "display_name": "Python 3"
    },
    "language_info": {
      "name": "python"
    }
  },
  "cells": [
    {
      "cell_type": "markdown",
      "metadata": {
        "id": "view-in-github",
        "colab_type": "text"
      },
      "source": [
        "<a href=\"https://colab.research.google.com/github/VMBoehm/N3AS_Project_Malika/blob/main/Confusion_matrix_included.ipynb\" target=\"_parent\"><img src=\"https://colab.research.google.com/assets/colab-badge.svg\" alt=\"Open In Colab\"/></a>"
      ]
    },
    {
      "cell_type": "code",
      "execution_count": 1,
      "metadata": {
        "id": "1t4_n2egH0gO"
      },
      "outputs": [],
      "source": [
        "from sklearn import datasets as datasets\n",
        "from sklearn import model_selection as ms\n",
        "import matplotlib.pyplot as plt\n",
        "import numpy as np"
      ]
    },
    {
      "cell_type": "code",
      "source": [
        "import tensorflow\n",
        "from tensorflow import keras\n",
        "from tensorflow.keras import layers\n",
        "from keras.models import Sequential\n",
        "from keras.layers import Dense\n"
      ],
      "metadata": {
        "id": "Zoc5UdiyH_R5"
      },
      "execution_count": 2,
      "outputs": []
    },
    {
      "cell_type": "code",
      "source": [
        "num_classes = 10 \n",
        "input_shape = (28, 28, 1)\n",
        "\n",
        "(X_train, y_train), (X_test, y_test) = keras.datasets.mnist.load_data()\n",
        "\n",
        "# Scale images to the [0, 1] range\n",
        "X_train = X_train.astype(\"float32\") / 255\n",
        "X_test = X_test.astype(\"float32\") / 255\n",
        "# Make sure images have shape (28, 28, 1)\n",
        "X_train = np.expand_dims(X_train, -1)\n",
        "X_test = np.expand_dims(X_test, -1)\n",
        "print(\"x_train shape:\", X_train.shape)\n",
        "print(X_train.shape[0], \"train samples\")\n",
        "print(X_test.shape[0], \"test samples\")\n",
        "\n",
        "\n",
        "y_train = keras.utils.to_categorical(y_train, num_classes)\n",
        "y_test = keras.utils.to_categorical(y_test, num_classes)\n",
        "\n",
        "print('X_train:',np.shape(X_train))\n",
        "print('y_train:',np.shape(y_train))\n",
        "print('X_test:',np.shape(X_test))\n",
        "print('y_test:',np.shape(y_test))"
      ],
      "metadata": {
        "colab": {
          "base_uri": "https://localhost:8080/"
        },
        "id": "XCx7r0cxICpZ",
        "outputId": "06551006-bd17-48f0-d468-b51e22f709b7"
      },
      "execution_count": 3,
      "outputs": [
        {
          "output_type": "stream",
          "name": "stdout",
          "text": [
            "Downloading data from https://storage.googleapis.com/tensorflow/tf-keras-datasets/mnist.npz\n",
            "11493376/11490434 [==============================] - 0s 0us/step\n",
            "11501568/11490434 [==============================] - 0s 0us/step\n",
            "x_train shape: (60000, 28, 28, 1)\n",
            "60000 train samples\n",
            "10000 test samples\n",
            "X_train: (60000, 28, 28, 1)\n",
            "y_train: (60000, 10)\n",
            "X_test: (10000, 28, 28, 1)\n",
            "y_test: (10000, 10)\n"
          ]
        }
      ]
    },
    {
      "cell_type": "code",
      "source": [
        "basic_model = Sequential(\n",
        "    [\n",
        "        keras.Input(shape=input_shape),\n",
        "        layers.Conv2D(32, kernel_size=(3, 3), activation=\"relu\"),\n",
        "        layers.MaxPooling2D(pool_size=(2, 2)),\n",
        "        layers.Conv2D(64, kernel_size=(3, 3), activation=\"relu\"),\n",
        "        layers.MaxPooling2D(pool_size=(2, 2)),\n",
        "        layers.Flatten(),\n",
        "        layers.Dropout(0.5),\n",
        "        layers.Dense(num_classes, activation=\"softmax\"),\n",
        "    ]\n",
        ")\n",
        "basic_model.summary()"
      ],
      "metadata": {
        "colab": {
          "base_uri": "https://localhost:8080/"
        },
        "id": "KJ_54DqfIHeC",
        "outputId": "60431617-d213-404b-9520-ad5313620383"
      },
      "execution_count": 4,
      "outputs": [
        {
          "output_type": "stream",
          "name": "stdout",
          "text": [
            "Model: \"sequential\"\n",
            "_________________________________________________________________\n",
            " Layer (type)                Output Shape              Param #   \n",
            "=================================================================\n",
            " conv2d (Conv2D)             (None, 26, 26, 32)        320       \n",
            "                                                                 \n",
            " max_pooling2d (MaxPooling2D  (None, 13, 13, 32)       0         \n",
            " )                                                               \n",
            "                                                                 \n",
            " conv2d_1 (Conv2D)           (None, 11, 11, 64)        18496     \n",
            "                                                                 \n",
            " max_pooling2d_1 (MaxPooling  (None, 5, 5, 64)         0         \n",
            " 2D)                                                             \n",
            "                                                                 \n",
            " flatten (Flatten)           (None, 1600)              0         \n",
            "                                                                 \n",
            " dropout (Dropout)           (None, 1600)              0         \n",
            "                                                                 \n",
            " dense (Dense)               (None, 10)                16010     \n",
            "                                                                 \n",
            "=================================================================\n",
            "Total params: 34,826\n",
            "Trainable params: 34,826\n",
            "Non-trainable params: 0\n",
            "_________________________________________________________________\n"
          ]
        }
      ]
    },
    {
      "cell_type": "code",
      "source": [
        "print('X_train:',np.shape(X_train))\n",
        "print('y_train:',np.shape(y_train))\n",
        "print('X_test:',np.shape(X_test))\n",
        "print('y_test:',np.shape(y_test))"
      ],
      "metadata": {
        "colab": {
          "base_uri": "https://localhost:8080/"
        },
        "id": "cldOEFdQGjPh",
        "outputId": "473456c1-576f-419e-e58b-c039eab31fc7"
      },
      "execution_count": 5,
      "outputs": [
        {
          "output_type": "stream",
          "name": "stdout",
          "text": [
            "X_train: (60000, 28, 28, 1)\n",
            "y_train: (60000, 10)\n",
            "X_test: (10000, 28, 28, 1)\n",
            "y_test: (10000, 10)\n"
          ]
        }
      ]
    },
    {
      "cell_type": "code",
      "source": [
        "opt = keras.optimizers.Adam(learning_rate=0.01)\n",
        "basic_model.compile(loss = 'categorical_crossentropy', optimizer = opt, metrics = ['accuracy'])"
      ],
      "metadata": {
        "id": "8wdh0bF2IMNN"
      },
      "execution_count": 6,
      "outputs": []
    },
    {
      "cell_type": "code",
      "source": [
        "basic_model.fit(X_train, y_train, batch_size=128, epochs=1, validation_split= 0.1)"
      ],
      "metadata": {
        "colab": {
          "base_uri": "https://localhost:8080/"
        },
        "id": "Ix5q0AhEISj2",
        "outputId": "e4c53981-5ef7-4561-f4bd-5c46b4f728f7"
      },
      "execution_count": 7,
      "outputs": [
        {
          "output_type": "stream",
          "name": "stdout",
          "text": [
            "422/422 [==============================] - 48s 110ms/step - loss: 0.1776 - accuracy: 0.9445 - val_loss: 0.0510 - val_accuracy: 0.9848\n"
          ]
        },
        {
          "output_type": "execute_result",
          "data": {
            "text/plain": [
              "<keras.callbacks.History at 0x7f84d2218ed0>"
            ]
          },
          "metadata": {},
          "execution_count": 7
        }
      ]
    },
    {
      "cell_type": "code",
      "source": [
        "loss_and_metrics = basic_model.evaluate(X_test, y_test)\n",
        "print('Loss = ',loss_and_metrics[0])\n",
        "print('Accuracy = ',loss_and_metrics[1])"
      ],
      "metadata": {
        "colab": {
          "base_uri": "https://localhost:8080/"
        },
        "id": "IcKOcqc_IWjU",
        "outputId": "98f3d65c-47f8-4d16-8f06-47e50c740982"
      },
      "execution_count": 8,
      "outputs": [
        {
          "output_type": "stream",
          "name": "stdout",
          "text": [
            "313/313 [==============================] - 2s 8ms/step - loss: 0.0528 - accuracy: 0.9829\n",
            "Loss =  0.052829254418611526\n",
            "Accuracy =  0.9829000234603882\n"
          ]
        }
      ]
    },
    {
      "cell_type": "code",
      "source": [
        "import numpy as np\n",
        "from scipy import interp\n",
        "import matplotlib.pyplot as plt\n",
        "from itertools import cycle\n",
        "from sklearn.metrics import roc_curve, auc\n",
        "\n",
        "  \n",
        "\n",
        "\n",
        "\n",
        "\n",
        "\n"
      ],
      "metadata": {
        "id": "1cPb4LcIIynl"
      },
      "execution_count": 9,
      "outputs": []
    },
    {
      "cell_type": "code",
      "source": [
        "## calulate accuracy by hand\n",
        "probs = basic_model.predict(X_test)\n",
        "y_pred = (np.argmax(probs,axis=1)).astype('int')\n",
        "y_true = (np.argmax(y_test,axis=1)).astype('int')\n",
        "\n",
        "print(y_pred)\n",
        "print(y_true)\n",
        "\n",
        "def tot_acc(prediction, true_value):\n",
        "\tcount= 0\n",
        "\tfor i in range(len(y_true)):\n",
        "\t\tif y_pred[i] == y_true[i]:\n",
        "\t\t\tcount = count +1\n",
        "\tacc= count/len(y_true)*100\n",
        "\treturn print(\"Your total accuracy is :\",acc,\"%\")\n",
        "\n",
        "\n",
        "tot_acc(y_pred,y_true)\n",
        "\n",
        " \n",
        "\n",
        "\n",
        " \n",
        " \n",
        "\n",
        " \n",
        "\n",
        "\n",
        "\n"
      ],
      "metadata": {
        "colab": {
          "base_uri": "https://localhost:8080/"
        },
        "id": "XO40bWo-Nnyy",
        "outputId": "3bc5f7ff-ad4f-4d63-a89f-e87deb123467"
      },
      "execution_count": 10,
      "outputs": [
        {
          "output_type": "stream",
          "name": "stdout",
          "text": [
            "[7 2 1 ... 4 5 6]\n",
            "[7 2 1 ... 4 5 6]\n",
            "Your total accuracy is : 98.29 %\n"
          ]
        }
      ]
    },
    {
      "cell_type": "code",
      "source": [
        "\n",
        "def singular_acc(target_class):\n",
        "  y_p = y_pred[y_pred == target_class] \n",
        "  y_t = y_true[y_true == target_class]\n",
        "  count = 0\n",
        "  if len(y_t) == len(y_p):\n",
        "    for i in range(y_t):\n",
        "      if y_p[i] == y_t[i]:\n",
        "        count = count +1\n",
        "  else:\n",
        "    if len(y_p) > len(y_t):\n",
        "      count=  -(len(y_p)-len(y_t))\n",
        "      for i in range(len(y_t)):\n",
        "        if y_p[i] == y_t[i]:\n",
        "          count = count +1 \n",
        "    elif len(y_p) < len(y_t):\n",
        "      count = -(len(y_t)-len(y_p))\n",
        "      for i in range(len(y_p)):\n",
        "        if y_p[i] == y_t[i]:\n",
        "          count = count +1 \n",
        "  acc = count/len(y_t)*100\n",
        "\n",
        "\n",
        "\n",
        "\n",
        "  return print(acc)\n",
        " \n",
        "\n",
        "for i in range (10):\n",
        "  singular_acc(i)\n",
        "\n",
        "\n",
        "\n",
        "\n",
        "\n",
        "\n"
      ],
      "metadata": {
        "colab": {
          "base_uri": "https://localhost:8080/"
        },
        "id": "xvyjHM-ikDXB",
        "outputId": "d7c2592e-9c56-4f33-cf2a-0dad7575df5a"
      },
      "execution_count": 11,
      "outputs": [
        {
          "output_type": "stream",
          "name": "stdout",
          "text": [
            "98.06122448979592\n",
            "99.73568281938327\n",
            "97.77131782945736\n",
            "98.51485148514851\n",
            "98.98167006109979\n",
            "95.2914798206278\n",
            "98.12108559498957\n",
            "96.88715953307393\n",
            "99.38398357289527\n",
            "95.8374628344896\n"
          ]
        }
      ]
    },
    {
      "cell_type": "code",
      "source": [
        "from sklearn import preprocessing\n",
        "clf = preprocessing.LabelBinarizer()\n",
        "clf.fit(y_pred)\n",
        "clf.classes_\n",
        "clf.transform(y_pred)\n",
        "lb = clf.transform(y_pred).astype(float)\n",
        "print(y_test)\n",
        "print(lb)"
      ],
      "metadata": {
        "id": "oWGloU9YfNLk",
        "outputId": "c6fe2799-aa91-4429-ebf2-855e0f7a08cf",
        "colab": {
          "base_uri": "https://localhost:8080/"
        }
      },
      "execution_count": 44,
      "outputs": [
        {
          "output_type": "stream",
          "name": "stdout",
          "text": [
            "[[0. 0. 0. ... 1. 0. 0.]\n",
            " [0. 0. 1. ... 0. 0. 0.]\n",
            " [0. 1. 0. ... 0. 0. 0.]\n",
            " ...\n",
            " [0. 0. 0. ... 0. 0. 0.]\n",
            " [0. 0. 0. ... 0. 0. 0.]\n",
            " [0. 0. 0. ... 0. 0. 0.]]\n",
            "[[0. 0. 0. ... 1. 0. 0.]\n",
            " [0. 0. 1. ... 0. 0. 0.]\n",
            " [0. 1. 0. ... 0. 0. 0.]\n",
            " ...\n",
            " [0. 0. 0. ... 0. 0. 0.]\n",
            " [0. 0. 0. ... 0. 0. 0.]\n",
            " [0. 0. 0. ... 0. 0. 0.]]\n"
          ]
        }
      ]
    },
    {
      "cell_type": "code",
      "source": [
        "from numpy.core.numeric import count_nonzero\n",
        "def accuracy_multi_class(true_value,Binary_value):\n",
        "  c=[]\n",
        "  for i in range(10):\n",
        "   c.append(np.sum((y_test[:,i] == lb[:,i])/len(y_test)*100))\n",
        "  return c\n",
        "  \n",
        "    "
      ],
      "metadata": {
        "id": "L4qIm6Gff7oT"
      },
      "execution_count": 79,
      "outputs": []
    },
    {
      "cell_type": "code",
      "source": [
        "accuracy_multi_class(y_test,lb)"
      ],
      "metadata": {
        "id": "RzHToPNdkEqb",
        "outputId": "6ae8bb2a-d16f-4903-c84a-b18ef2e3f1bb",
        "colab": {
          "base_uri": "https://localhost:8080/"
        }
      },
      "execution_count": 80,
      "outputs": [
        {
          "output_type": "execute_result",
          "data": {
            "text/plain": [
              "[99.71,\n",
              " 99.85000000000001,\n",
              " 99.54999999999998,\n",
              " 99.63,\n",
              " 99.78,\n",
              " 99.63,\n",
              " 99.75,\n",
              " 99.5,\n",
              " 99.65,\n",
              " 99.53]"
            ]
          },
          "metadata": {},
          "execution_count": 80
        }
      ]
    },
    {
      "cell_type": "code",
      "source": [
        "import numpy as np\n",
        "from scipy import interp\n",
        "import matplotlib.pyplot as plt\n",
        "from itertools import cycle\n",
        "from sklearn.metrics import roc_curve, auc\n",
        "\n",
        "# Plot linewidth.\n",
        "lw = 2\n",
        "\n",
        "# Compute ROC curve and ROC area for each class\n",
        "fpr = dict()\n",
        "tpr = dict()\n",
        "roc_auc = dict()\n",
        "for i in range(num_classes):\n",
        "    fpr[i], tpr[i], _ = roc_curve(y_test[:, i], lb[:, i])\n",
        "    roc_auc[i]        = auc(fpr[i], tpr[i])\n",
        "\n",
        "\n",
        "colors = cycle(['b', 'g', 'r','c','m','y','k','pink', 'lightgreen','khaki'])\n",
        "for i, color in zip(range(num_classes), colors):\n",
        "    plt.plot(fpr[i], tpr[i], color=color, lw=lw,\n",
        "             label='ROC curve of class {0} (area = {1:0.3f})'\n",
        "             ''.format(i, roc_auc[i]))\n",
        "\n",
        "plt.plot([0, 1], [0, 1], 'k--', lw=lw)\n",
        "plt.xlim(-0.005, 0.06)\n",
        "plt.ylim(0.9, 1.001)\n",
        "plt.xlabel('False Positive Rate')\n",
        "plt.ylabel('True Positive Rate')\n",
        "plt.legend(loc=\"lower right\")\n",
        "plt.show()"
      ],
      "metadata": {
        "id": "Zq1MMf5LQw3O",
        "outputId": "5c499b7c-bc3a-473e-e900-44f413880362",
        "colab": {
          "base_uri": "https://localhost:8080/",
          "height": 281
        }
      },
      "execution_count": 84,
      "outputs": [
        {
          "output_type": "display_data",
          "data": {
            "text/plain": [
              "<Figure size 432x288 with 1 Axes>"
            ],
            "image/png": "[encoded data removed]"
          },
          "metadata": {
            "needs_background": "light"
          }
        }
      ]
    },
    {
      "cell_type": "code",
      "source": [
        "from sklearn.metrics import confusion_matrix\n",
        "c_m = confusion_matrix(y_true, y_pred, normalize=None)\n",
        "\n",
        "print(c_m)"
      ],
      "metadata": {
        "id": "_1xV1RU3W_ol",
        "outputId": "ba189c47-f861-40fc-8a42-c8526cf74c67",
        "colab": {
          "base_uri": "https://localhost:8080/"
        }
      },
      "execution_count": 16,
      "outputs": [
        {
          "output_type": "stream",
          "name": "stdout",
          "text": [
            "[[ 975    0    2    0    0    0    2    1    0    0]\n",
            " [   0 1129    2    3    0    0    0    1    0    0]\n",
            " [   2    0 1021    0    3    0    0    4    2    0]\n",
            " [   0    0    4  999    0    1    0    4    2    0]\n",
            " [   0    0    1    0  976    0    0    0    0    5]\n",
            " [   4    0    1   14    0  863    4    1    4    1]\n",
            " [   9    3    0    0    2    2  941    0    1    0]\n",
            " [   1    2   19    3    1    0    0  995    3    4]\n",
            " [   4    0    4    2    3    0    2    1  955    3]\n",
            " [   4    4    1    4    7    5    0    5    4  975]]\n"
          ]
        }
      ]
    },
    {
      "cell_type": "code",
      "source": [
        "\n",
        "from sklearn.datasets import make_classification\n",
        "from sklearn.metrics import ConfusionMatrixDisplay\n",
        "from sklearn.svm import SVC\n",
        "disp = ConfusionMatrixDisplay(confusion_matrix=c_m,\n",
        "                             display_labels= '0123456789')\n",
        "disp.plot(cmap= 'Blues')\n",
        "plt.show()\n",
        "\n",
        "matrix = (c_m.diagonal()/c_m.sum(axis=1))*100\n",
        "print(matrix)"
      ],
      "metadata": {
        "id": "_aaRQ-m3Xy7F",
        "outputId": "211e5212-8764-4ace-9f76-8c62d6e40916",
        "colab": {
          "base_uri": "https://localhost:8080/",
          "height": 313
        }
      },
      "execution_count": 17,
      "outputs": [
        {
          "output_type": "display_data",
          "data": {
            "text/plain": [
              "<Figure size 432x288 with 2 Axes>"
            ],
            "image/png": "[encoded data removed]"
          },
          "metadata": {
            "needs_background": "light"
          }
        },
        {
          "output_type": "stream",
          "name": "stdout",
          "text": [
            "[99.48979592 99.47136564 98.93410853 98.91089109 99.38900204 96.74887892\n",
            " 98.22546973 96.78988327 98.04928131 96.63032706]\n"
          ]
        }
      ]
    },
    {
      "cell_type": "code",
      "source": [
        "import seaborn as sns\n",
        "\n",
        "sns.heatmap(c_m.T, square=True, annot=True, cbar=False, cmap=plt.cm.Blues, fmt='.0f')\n",
        "plt.xlabel('Predicted Values')\n",
        "plt.ylabel('True Values')\n",
        "plt.show()"
      ],
      "metadata": {
        "id": "KThv8G9vp18K",
        "outputId": "59242d3f-625f-4908-b2a3-ca56bcecaf63",
        "colab": {
          "base_uri": "https://localhost:8080/",
          "height": 279
        }
      },
      "execution_count": 18,
      "outputs": [
        {
          "output_type": "display_data",
          "data": {
            "text/plain": [
              "<Figure size 432x288 with 1 Axes>"
            ],
            "image/png": "[encoded data removed]"
          },
          "metadata": {
            "needs_background": "light"
          }
        }
      ]
    }
  ]
}